{
  "nbformat": 4,
  "nbformat_minor": 0,
  "metadata": {
    "colab": {
      "provenance": [],
      "gpuType": "T4"
    },
    "kernelspec": {
      "name": "python3",
      "display_name": "Python 3"
    },
    "language_info": {
      "name": "python"
    },
    "accelerator": "GPU"
  },
  "cells": [
    {
      "cell_type": "code",
      "source": [
        "!mkdir -p ~/.kaggle"
      ],
      "metadata": {
        "id": "A7xHhqgV15m_"
      },
      "execution_count": 1,
      "outputs": []
    },
    {
      "cell_type": "code",
      "source": [
        "!cp kaggle.json ~/.kaggle/"
      ],
      "metadata": {
        "id": "_MN7I-0E15jt"
      },
      "execution_count": 2,
      "outputs": []
    },
    {
      "cell_type": "code",
      "source": [
        "!kaggle datasets download -d masoudnickparvar/brain-tumor-mri-dataset"
      ],
      "metadata": {
        "colab": {
          "base_uri": "https://localhost:8080/"
        },
        "id": "ARSUenRH15gv",
        "outputId": "b0c11c16-adb1-41bc-81a2-dcd0ca3acd00"
      },
      "execution_count": 4,
      "outputs": [
        {
          "output_type": "stream",
          "name": "stdout",
          "text": [
            "Warning: Your Kaggle API key is readable by other users on this system! To fix this, you can run 'chmod 600 /root/.kaggle/kaggle.json'\n",
            "Dataset URL: https://www.kaggle.com/datasets/masoudnickparvar/brain-tumor-mri-dataset\n",
            "License(s): CC0-1.0\n",
            "brain-tumor-mri-dataset.zip: Skipping, found more recently modified local copy (use --force to force download)\n"
          ]
        }
      ]
    },
    {
      "cell_type": "code",
      "source": [
        "import zipfile\n",
        "zip_data = zipfile.ZipFile('/content/brain-tumor-mri-dataset.zip')\n",
        "zip_data.extractall('/content')\n",
        "zip_data.close()"
      ],
      "metadata": {
        "id": "YzxD3yVj15XN"
      },
      "execution_count": 3,
      "outputs": []
    },
    {
      "cell_type": "code",
      "source": [
        "### import basic packages to build CNN Model\n",
        "\n",
        "import tensorflow as tf\n",
        "from tensorflow import keras\n",
        "from keras import Sequential\n",
        "from keras.layers import Dense, Conv2D, MaxPooling2D, Flatten, BatchNormalization, Dropout\n",
        "from keras.callbacks import EarlyStopping"
      ],
      "metadata": {
        "id": "wpZuUVCw15UP"
      },
      "execution_count": 5,
      "outputs": []
    },
    {
      "cell_type": "code",
      "source": [
        "# Generate dataset\n",
        "\n",
        "train_ds = keras.utils.image_dataset_from_directory(directory = '/content/Training',labels = 'inferred',label_mode = 'int',batch_size=32,image_size=(256,256))"
      ],
      "metadata": {
        "colab": {
          "base_uri": "https://localhost:8080/"
        },
        "id": "cuDX3EwI15Qd",
        "outputId": "2d93f0d8-f68f-46bb-d690-9b297f248ef0"
      },
      "execution_count": 6,
      "outputs": [
        {
          "output_type": "stream",
          "name": "stdout",
          "text": [
            "Found 5712 files belonging to 4 classes.\n"
          ]
        }
      ]
    },
    {
      "cell_type": "code",
      "source": [
        "test_ds = keras.utils.image_dataset_from_directory(directory = '/content/Testing',labels = 'inferred',label_mode = 'int',batch_size = 32,image_size=(256,256))"
      ],
      "metadata": {
        "colab": {
          "base_uri": "https://localhost:8080/"
        },
        "id": "HtxgVdgz15MH",
        "outputId": "02f2c9d3-34d2-4ae2-f30d-adcea1dde866"
      },
      "execution_count": 7,
      "outputs": [
        {
          "output_type": "stream",
          "name": "stdout",
          "text": [
            "Found 1311 files belonging to 4 classes.\n"
          ]
        }
      ]
    },
    {
      "cell_type": "code",
      "source": [
        "#### NORMALIZATION\n",
        "\n",
        "def process(image,label):\n",
        "  image = tf.cast(image/255.,tf.float32)\n",
        "  return image,label\n",
        "\n",
        "train_ds = train_ds.map(process)\n",
        "test_ds = test_ds.map(process)"
      ],
      "metadata": {
        "id": "7G-gLLxZ6Tb-"
      },
      "execution_count": 8,
      "outputs": []
    },
    {
      "cell_type": "code",
      "source": [
        "#Building CNN model\n",
        "model = keras.models.Sequential([\n",
        "                         keras.layers.Conv2D(filters=64, kernel_size=3, strides=(1,1), padding='valid',activation= 'relu', input_shape=[256,256,3]),\n",
        "                         keras.layers.MaxPooling2D(pool_size=(2,2)),\n",
        "                         keras.layers.Conv2D(filters=128, kernel_size=3, strides=(2,2), padding='same', activation='relu'),\n",
        "                         keras.layers.MaxPooling2D(pool_size=(2,2)),\n",
        "                         keras.layers.Conv2D(filters=64, kernel_size=3, strides=(2,2), padding='same', activation='relu'),\n",
        "                         keras.layers.MaxPooling2D(pool_size=(2,2)),\n",
        "                         keras.layers.Flatten(),\n",
        "                         keras.layers.Dense(units=128, activation='relu'),\n",
        "                         keras.layers.Dropout(0.25),\n",
        "                         keras.layers.Dense(units=256, activation='relu'),\n",
        "                         keras.layers.Dropout(0.5),\n",
        "                         keras.layers.Dense(units=256, activation='relu'),\n",
        "                         keras.layers.Dropout(0.25),\n",
        "                         keras.layers.Dense(units=128, activation='relu'),\n",
        "                         keras.layers.Dropout(0.10),\n",
        "                         keras.layers.Dense(units=10, activation='softmax')\n",
        "                         ])"
      ],
      "metadata": {
        "id": "dJNvMnGBJttJ"
      },
      "execution_count": 15,
      "outputs": []
    },
    {
      "cell_type": "markdown",
      "source": [
        "Training and Results\n",
        "\n",
        "To train the network, we have to compile it.\n",
        "\n",
        "The compilation processes involve specifying the following items:\n",
        "\n",
        "Loss function:\n",
        "\n",
        "A method that quantifies ‘how well’ a machine learning model performs. The quantification is an output(cost) based on a set of inputs, which are referred to as parameter values. The parameter values are used to estimate a prediction, and the ‘loss’ is the difference between the predictions and the actual values.\n",
        "\n",
        "Optimization Algorithm:\n",
        "\n",
        "An optimizer within a neural network is an algorithmic implementation that facilitates the process of gradient descent within a neural network by minimizing the loss values provided via the loss function. To reduce the loss, it is paramount the values of the weights within the network are selected appropriately.\n",
        "\n",
        "Learning Rate:\n",
        "\n",
        "An integral component of a neural network implementation detail as it’s a factor value that determines the level of updates that are made to the values of the weights of the network. Learning rate is a type of hyperparameter.\n",
        "\n",
        "We can also provide a summary of the network to have more insight into the layer composition of the network by running the model.summary() function."
      ],
      "metadata": {
        "id": "esRm9EWoRLXd"
      }
    },
    {
      "cell_type": "code",
      "source": [
        "model.summary()"
      ],
      "metadata": {
        "colab": {
          "base_uri": "https://localhost:8080/"
        },
        "id": "pftxxkT96TN2",
        "outputId": "ab1b10a9-4d4f-4f4c-b1b7-2f5c640ff5e8"
      },
      "execution_count": 16,
      "outputs": [
        {
          "output_type": "stream",
          "name": "stdout",
          "text": [
            "Model: \"sequential_2\"\n",
            "_________________________________________________________________\n",
            " Layer (type)                Output Shape              Param #   \n",
            "=================================================================\n",
            " conv2d_6 (Conv2D)           (None, 254, 254, 64)      1792      \n",
            "                                                                 \n",
            " max_pooling2d_6 (MaxPoolin  (None, 127, 127, 64)      0         \n",
            " g2D)                                                            \n",
            "                                                                 \n",
            " conv2d_7 (Conv2D)           (None, 64, 64, 128)       73856     \n",
            "                                                                 \n",
            " max_pooling2d_7 (MaxPoolin  (None, 32, 32, 128)       0         \n",
            " g2D)                                                            \n",
            "                                                                 \n",
            " conv2d_8 (Conv2D)           (None, 16, 16, 64)        73792     \n",
            "                                                                 \n",
            " max_pooling2d_8 (MaxPoolin  (None, 8, 8, 64)          0         \n",
            " g2D)                                                            \n",
            "                                                                 \n",
            " flatten_2 (Flatten)         (None, 4096)              0         \n",
            "                                                                 \n",
            " dense_10 (Dense)            (None, 128)               524416    \n",
            "                                                                 \n",
            " dropout_8 (Dropout)         (None, 128)               0         \n",
            "                                                                 \n",
            " dense_11 (Dense)            (None, 256)               33024     \n",
            "                                                                 \n",
            " dropout_9 (Dropout)         (None, 256)               0         \n",
            "                                                                 \n",
            " dense_12 (Dense)            (None, 256)               65792     \n",
            "                                                                 \n",
            " dropout_10 (Dropout)        (None, 256)               0         \n",
            "                                                                 \n",
            " dense_13 (Dense)            (None, 128)               32896     \n",
            "                                                                 \n",
            " dropout_11 (Dropout)        (None, 128)               0         \n",
            "                                                                 \n",
            " dense_14 (Dense)            (None, 10)                1290      \n",
            "                                                                 \n",
            "=================================================================\n",
            "Total params: 806858 (3.08 MB)\n",
            "Trainable params: 806858 (3.08 MB)\n",
            "Non-trainable params: 0 (0.00 Byte)\n",
            "_________________________________________________________________\n"
          ]
        }
      ]
    },
    {
      "cell_type": "code",
      "source": [
        "model.compile(loss='sparse_categorical_crossentropy', optimizer='adam',metrics = ['accuracy'])"
      ],
      "metadata": {
        "id": "4nGnoZ4n-tes"
      },
      "execution_count": 17,
      "outputs": []
    },
    {
      "cell_type": "code",
      "source": [
        "callback = EarlyStopping(monitor = 'val_loss',min_delta = 0.01,patience = 50,verbose = 1,mode = 'auto',baseline = None,restore_best_weights = False,start_from_epoch =0)"
      ],
      "metadata": {
        "id": "ZmlaXOTXDCbT"
      },
      "execution_count": 18,
      "outputs": []
    },
    {
      "cell_type": "code",
      "source": [
        "history = model.fit(train_ds,batch_size = 128,epochs = 1000,validation_data= test_ds,callbacks = callback)"
      ],
      "metadata": {
        "colab": {
          "base_uri": "https://localhost:8080/"
        },
        "id": "7e-SkKpQ-5qX",
        "outputId": "027f0606-7567-45eb-bc3a-874e559e8dbf"
      },
      "execution_count": 19,
      "outputs": [
        {
          "output_type": "stream",
          "name": "stdout",
          "text": [
            "Epoch 1/1000\n",
            "179/179 [==============================] - 26s 98ms/step - loss: 1.0400 - accuracy: 0.5350 - val_loss: 0.7245 - val_accuracy: 0.7109\n",
            "Epoch 2/1000\n",
            "179/179 [==============================] - 17s 94ms/step - loss: 0.5655 - accuracy: 0.7686 - val_loss: 0.5544 - val_accuracy: 0.7605\n",
            "Epoch 3/1000\n",
            "179/179 [==============================] - 16s 86ms/step - loss: 0.3921 - accuracy: 0.8578 - val_loss: 0.5049 - val_accuracy: 0.8192\n",
            "Epoch 4/1000\n",
            "179/179 [==============================] - 17s 92ms/step - loss: 0.2785 - accuracy: 0.8993 - val_loss: 0.3444 - val_accuracy: 0.8520\n",
            "Epoch 5/1000\n",
            "179/179 [==============================] - 15s 85ms/step - loss: 0.2334 - accuracy: 0.9181 - val_loss: 0.3249 - val_accuracy: 0.8627\n",
            "Epoch 6/1000\n",
            "179/179 [==============================] - 16s 85ms/step - loss: 0.1904 - accuracy: 0.9354 - val_loss: 0.2541 - val_accuracy: 0.8955\n",
            "Epoch 7/1000\n",
            "179/179 [==============================] - 17s 91ms/step - loss: 0.1696 - accuracy: 0.9410 - val_loss: 0.4021 - val_accuracy: 0.8703\n",
            "Epoch 8/1000\n",
            "179/179 [==============================] - 16s 86ms/step - loss: 0.1417 - accuracy: 0.9533 - val_loss: 0.2009 - val_accuracy: 0.9336\n",
            "Epoch 9/1000\n",
            "179/179 [==============================] - 15s 84ms/step - loss: 0.1314 - accuracy: 0.9568 - val_loss: 0.2418 - val_accuracy: 0.8993\n",
            "Epoch 10/1000\n",
            "179/179 [==============================] - 16s 87ms/step - loss: 0.1035 - accuracy: 0.9638 - val_loss: 0.1694 - val_accuracy: 0.9512\n",
            "Epoch 11/1000\n",
            "179/179 [==============================] - 16s 88ms/step - loss: 0.0889 - accuracy: 0.9706 - val_loss: 0.2165 - val_accuracy: 0.9268\n",
            "Epoch 12/1000\n",
            "179/179 [==============================] - 16s 89ms/step - loss: 0.0835 - accuracy: 0.9720 - val_loss: 0.1765 - val_accuracy: 0.9413\n",
            "Epoch 13/1000\n",
            "179/179 [==============================] - 16s 89ms/step - loss: 0.0706 - accuracy: 0.9757 - val_loss: 0.1596 - val_accuracy: 0.9558\n",
            "Epoch 14/1000\n",
            "179/179 [==============================] - 18s 100ms/step - loss: 0.0595 - accuracy: 0.9799 - val_loss: 0.2178 - val_accuracy: 0.9405\n",
            "Epoch 15/1000\n",
            "179/179 [==============================] - 15s 83ms/step - loss: 0.0616 - accuracy: 0.9820 - val_loss: 0.1512 - val_accuracy: 0.9580\n",
            "Epoch 16/1000\n",
            "179/179 [==============================] - 16s 90ms/step - loss: 0.0466 - accuracy: 0.9841 - val_loss: 0.1511 - val_accuracy: 0.9588\n",
            "Epoch 17/1000\n",
            "179/179 [==============================] - 17s 92ms/step - loss: 0.0703 - accuracy: 0.9779 - val_loss: 0.1976 - val_accuracy: 0.9443\n",
            "Epoch 18/1000\n",
            "179/179 [==============================] - 17s 93ms/step - loss: 0.0506 - accuracy: 0.9827 - val_loss: 0.2144 - val_accuracy: 0.9542\n",
            "Epoch 19/1000\n",
            "179/179 [==============================] - 16s 88ms/step - loss: 0.0424 - accuracy: 0.9867 - val_loss: 0.2125 - val_accuracy: 0.9527\n",
            "Epoch 20/1000\n",
            "179/179 [==============================] - 17s 92ms/step - loss: 0.0398 - accuracy: 0.9890 - val_loss: 0.2131 - val_accuracy: 0.9558\n",
            "Epoch 21/1000\n",
            "179/179 [==============================] - 15s 85ms/step - loss: 0.0233 - accuracy: 0.9921 - val_loss: 0.2363 - val_accuracy: 0.9611\n",
            "Epoch 22/1000\n",
            "179/179 [==============================] - 16s 86ms/step - loss: 0.0268 - accuracy: 0.9916 - val_loss: 0.2118 - val_accuracy: 0.9573\n",
            "Epoch 23/1000\n",
            "179/179 [==============================] - 19s 104ms/step - loss: 0.0501 - accuracy: 0.9862 - val_loss: 0.2266 - val_accuracy: 0.9535\n",
            "Epoch 24/1000\n",
            "179/179 [==============================] - 16s 89ms/step - loss: 0.0281 - accuracy: 0.9904 - val_loss: 0.1680 - val_accuracy: 0.9641\n",
            "Epoch 25/1000\n",
            "179/179 [==============================] - 17s 91ms/step - loss: 0.0285 - accuracy: 0.9902 - val_loss: 0.1944 - val_accuracy: 0.9619\n",
            "Epoch 26/1000\n",
            "179/179 [==============================] - 16s 89ms/step - loss: 0.0272 - accuracy: 0.9916 - val_loss: 0.2235 - val_accuracy: 0.9619\n",
            "Epoch 27/1000\n",
            "179/179 [==============================] - 16s 85ms/step - loss: 0.0255 - accuracy: 0.9926 - val_loss: 0.2570 - val_accuracy: 0.9580\n",
            "Epoch 28/1000\n",
            "179/179 [==============================] - 17s 93ms/step - loss: 0.0351 - accuracy: 0.9888 - val_loss: 0.2539 - val_accuracy: 0.9580\n",
            "Epoch 29/1000\n",
            "179/179 [==============================] - 19s 104ms/step - loss: 0.0280 - accuracy: 0.9914 - val_loss: 0.2366 - val_accuracy: 0.9542\n",
            "Epoch 30/1000\n",
            "179/179 [==============================] - 16s 87ms/step - loss: 0.0244 - accuracy: 0.9939 - val_loss: 0.1350 - val_accuracy: 0.9611\n",
            "Epoch 31/1000\n",
            "179/179 [==============================] - 15s 84ms/step - loss: 0.0300 - accuracy: 0.9916 - val_loss: 0.2452 - val_accuracy: 0.9596\n",
            "Epoch 32/1000\n",
            "179/179 [==============================] - 16s 88ms/step - loss: 0.0336 - accuracy: 0.9895 - val_loss: 0.1991 - val_accuracy: 0.9527\n",
            "Epoch 33/1000\n",
            "179/179 [==============================] - 16s 85ms/step - loss: 0.0170 - accuracy: 0.9935 - val_loss: 0.2368 - val_accuracy: 0.9550\n",
            "Epoch 34/1000\n",
            "179/179 [==============================] - 17s 90ms/step - loss: 0.0337 - accuracy: 0.9898 - val_loss: 0.2871 - val_accuracy: 0.9436\n",
            "Epoch 35/1000\n",
            "179/179 [==============================] - 16s 85ms/step - loss: 0.0213 - accuracy: 0.9947 - val_loss: 0.3374 - val_accuracy: 0.9428\n",
            "Epoch 36/1000\n",
            "179/179 [==============================] - 16s 89ms/step - loss: 0.0198 - accuracy: 0.9932 - val_loss: 0.2563 - val_accuracy: 0.9558\n",
            "Epoch 37/1000\n",
            "179/179 [==============================] - 16s 88ms/step - loss: 0.0212 - accuracy: 0.9939 - val_loss: 0.2753 - val_accuracy: 0.9542\n",
            "Epoch 38/1000\n",
            "179/179 [==============================] - 16s 89ms/step - loss: 0.0220 - accuracy: 0.9942 - val_loss: 0.2359 - val_accuracy: 0.9481\n",
            "Epoch 39/1000\n",
            "179/179 [==============================] - 16s 89ms/step - loss: 0.0204 - accuracy: 0.9923 - val_loss: 0.2544 - val_accuracy: 0.9573\n",
            "Epoch 40/1000\n",
            "179/179 [==============================] - 17s 92ms/step - loss: 0.0120 - accuracy: 0.9963 - val_loss: 0.2858 - val_accuracy: 0.9619\n",
            "Epoch 41/1000\n",
            "179/179 [==============================] - 16s 85ms/step - loss: 0.0188 - accuracy: 0.9944 - val_loss: 0.2361 - val_accuracy: 0.9596\n",
            "Epoch 42/1000\n",
            "179/179 [==============================] - 17s 92ms/step - loss: 0.0168 - accuracy: 0.9953 - val_loss: 0.4164 - val_accuracy: 0.9413\n",
            "Epoch 43/1000\n",
            "179/179 [==============================] - 16s 85ms/step - loss: 0.0223 - accuracy: 0.9930 - val_loss: 0.2393 - val_accuracy: 0.9626\n",
            "Epoch 44/1000\n",
            "179/179 [==============================] - 16s 86ms/step - loss: 0.0230 - accuracy: 0.9942 - val_loss: 0.4134 - val_accuracy: 0.9542\n",
            "Epoch 45/1000\n",
            "179/179 [==============================] - 17s 93ms/step - loss: 0.0119 - accuracy: 0.9956 - val_loss: 0.5280 - val_accuracy: 0.9527\n",
            "Epoch 46/1000\n",
            "179/179 [==============================] - 16s 85ms/step - loss: 0.0170 - accuracy: 0.9961 - val_loss: 0.2534 - val_accuracy: 0.9512\n",
            "Epoch 47/1000\n",
            "179/179 [==============================] - 16s 89ms/step - loss: 0.0293 - accuracy: 0.9902 - val_loss: 0.3489 - val_accuracy: 0.9619\n",
            "Epoch 48/1000\n",
            "179/179 [==============================] - 17s 93ms/step - loss: 0.0347 - accuracy: 0.9919 - val_loss: 0.2982 - val_accuracy: 0.9504\n",
            "Epoch 49/1000\n",
            "179/179 [==============================] - 16s 85ms/step - loss: 0.0275 - accuracy: 0.9932 - val_loss: 0.3167 - val_accuracy: 0.9596\n",
            "Epoch 50/1000\n",
            "179/179 [==============================] - 16s 89ms/step - loss: 0.0116 - accuracy: 0.9965 - val_loss: 0.3573 - val_accuracy: 0.9573\n",
            "Epoch 51/1000\n",
            "179/179 [==============================] - 16s 85ms/step - loss: 0.0046 - accuracy: 0.9982 - val_loss: 0.3554 - val_accuracy: 0.9626\n",
            "Epoch 52/1000\n",
            "179/179 [==============================] - 19s 101ms/step - loss: 0.0192 - accuracy: 0.9942 - val_loss: 0.2304 - val_accuracy: 0.9542\n",
            "Epoch 53/1000\n",
            "179/179 [==============================] - 16s 88ms/step - loss: 0.0115 - accuracy: 0.9963 - val_loss: 0.3090 - val_accuracy: 0.9611\n",
            "Epoch 54/1000\n",
            "179/179 [==============================] - 15s 85ms/step - loss: 0.0481 - accuracy: 0.9890 - val_loss: 0.2073 - val_accuracy: 0.9687\n",
            "Epoch 55/1000\n",
            "179/179 [==============================] - 16s 88ms/step - loss: 0.0141 - accuracy: 0.9961 - val_loss: 0.3159 - val_accuracy: 0.9596\n",
            "Epoch 56/1000\n",
            "179/179 [==============================] - 16s 89ms/step - loss: 0.0067 - accuracy: 0.9977 - val_loss: 0.2594 - val_accuracy: 0.9619\n",
            "Epoch 57/1000\n",
            "179/179 [==============================] - 16s 87ms/step - loss: 0.0141 - accuracy: 0.9947 - val_loss: 0.2411 - val_accuracy: 0.9634\n",
            "Epoch 58/1000\n",
            "179/179 [==============================] - 16s 85ms/step - loss: 0.0063 - accuracy: 0.9979 - val_loss: 0.3676 - val_accuracy: 0.9580\n",
            "Epoch 59/1000\n",
            "179/179 [==============================] - 16s 85ms/step - loss: 0.0305 - accuracy: 0.9914 - val_loss: 0.3615 - val_accuracy: 0.9527\n",
            "Epoch 60/1000\n",
            "179/179 [==============================] - 16s 88ms/step - loss: 0.0144 - accuracy: 0.9956 - val_loss: 0.2397 - val_accuracy: 0.9634\n",
            "Epoch 61/1000\n",
            "179/179 [==============================] - 17s 93ms/step - loss: 0.0250 - accuracy: 0.9935 - val_loss: 0.2983 - val_accuracy: 0.9657\n",
            "Epoch 62/1000\n",
            "179/179 [==============================] - 16s 85ms/step - loss: 0.0098 - accuracy: 0.9965 - val_loss: 0.3792 - val_accuracy: 0.9626\n",
            "Epoch 63/1000\n",
            "179/179 [==============================] - 19s 101ms/step - loss: 0.0383 - accuracy: 0.9893 - val_loss: 0.2138 - val_accuracy: 0.9603\n",
            "Epoch 64/1000\n",
            "179/179 [==============================] - 16s 89ms/step - loss: 0.0188 - accuracy: 0.9953 - val_loss: 0.3472 - val_accuracy: 0.9603\n",
            "Epoch 65/1000\n",
            "179/179 [==============================] - 19s 103ms/step - loss: 0.0118 - accuracy: 0.9963 - val_loss: 0.3177 - val_accuracy: 0.9680\n",
            "Epoch 66/1000\n",
            "179/179 [==============================] - 16s 89ms/step - loss: 0.0115 - accuracy: 0.9977 - val_loss: 0.4387 - val_accuracy: 0.9535\n",
            "Epoch 67/1000\n",
            "179/179 [==============================] - 15s 85ms/step - loss: 0.0242 - accuracy: 0.9937 - val_loss: 0.2722 - val_accuracy: 0.9573\n",
            "Epoch 68/1000\n",
            "179/179 [==============================] - 16s 86ms/step - loss: 0.0048 - accuracy: 0.9984 - val_loss: 0.3498 - val_accuracy: 0.9649\n",
            "Epoch 69/1000\n",
            "179/179 [==============================] - 16s 86ms/step - loss: 0.0214 - accuracy: 0.9944 - val_loss: 0.2834 - val_accuracy: 0.9596\n",
            "Epoch 70/1000\n",
            "179/179 [==============================] - 16s 88ms/step - loss: 0.0195 - accuracy: 0.9949 - val_loss: 0.4828 - val_accuracy: 0.9573\n",
            "Epoch 71/1000\n",
            "179/179 [==============================] - 16s 85ms/step - loss: 0.0160 - accuracy: 0.9967 - val_loss: 0.3473 - val_accuracy: 0.9580\n",
            "Epoch 72/1000\n",
            "179/179 [==============================] - 16s 85ms/step - loss: 0.0108 - accuracy: 0.9974 - val_loss: 0.3906 - val_accuracy: 0.9596\n",
            "Epoch 73/1000\n",
            "179/179 [==============================] - 17s 92ms/step - loss: 0.0107 - accuracy: 0.9974 - val_loss: 0.3350 - val_accuracy: 0.9588\n",
            "Epoch 74/1000\n",
            "179/179 [==============================] - 16s 89ms/step - loss: 0.0204 - accuracy: 0.9953 - val_loss: 0.1924 - val_accuracy: 0.9619\n",
            "Epoch 75/1000\n",
            "179/179 [==============================] - 16s 89ms/step - loss: 0.0113 - accuracy: 0.9977 - val_loss: 0.3532 - val_accuracy: 0.9641\n",
            "Epoch 76/1000\n",
            "179/179 [==============================] - 19s 103ms/step - loss: 0.0197 - accuracy: 0.9944 - val_loss: 0.4031 - val_accuracy: 0.9542\n",
            "Epoch 77/1000\n",
            "179/179 [==============================] - 16s 85ms/step - loss: 0.0153 - accuracy: 0.9963 - val_loss: 0.3912 - val_accuracy: 0.9619\n",
            "Epoch 78/1000\n",
            "179/179 [==============================] - 16s 85ms/step - loss: 0.0171 - accuracy: 0.9949 - val_loss: 0.3334 - val_accuracy: 0.9596\n",
            "Epoch 79/1000\n",
            "179/179 [==============================] - 16s 89ms/step - loss: 0.0050 - accuracy: 0.9989 - val_loss: 0.4744 - val_accuracy: 0.9596\n",
            "Epoch 80/1000\n",
            "179/179 [==============================] - 16s 88ms/step - loss: 0.0601 - accuracy: 0.9884 - val_loss: 0.4211 - val_accuracy: 0.9558\n",
            "Epoch 80: early stopping\n"
          ]
        }
      ]
    },
    {
      "cell_type": "code",
      "source": [
        "import matplotlib.pyplot as plt\n",
        "plt.plot(history.history['accuracy'], label='accuracy')\n",
        "plt.plot(history.history['val_accuracy'], label = 'val_accuracy')\n",
        "plt.xlabel('Epoch')\n",
        "plt.ylabel('Accuracy')\n",
        "plt.ylim([0.5, 1])\n",
        "plt.legend(loc='lower right')\n",
        "\n",
        "test_loss, test_acc = model.evaluate(train_ds, verbose=2)"
      ],
      "metadata": {
        "colab": {
          "base_uri": "https://localhost:8080/",
          "height": 472
        },
        "id": "vMV0JFNb6TDV",
        "outputId": "93d0c059-05e5-4f23-804d-85941cf3b515"
      },
      "execution_count": 25,
      "outputs": [
        {
          "output_type": "stream",
          "name": "stdout",
          "text": [
            "179/179 - 11s - loss: 0.0019 - accuracy: 0.9993 - 11s/epoch - 60ms/step\n"
          ]
        },
        {
          "output_type": "display_data",
          "data": {
            "text/plain": [
              "<Figure size 640x480 with 1 Axes>"
            ],
            "image/png": "[encoded data removed]"
          },
          "metadata": {}
        }
      ]
    }
  ]
}