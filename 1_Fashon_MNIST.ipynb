{
  "nbformat": 4,
  "nbformat_minor": 0,
  "metadata": {
    "colab": {
      "provenance": [],
      "gpuType": "T4"
    },
    "kernelspec": {
      "name": "python3",
      "display_name": "Python 3"
    },
    "language_info": {
      "name": "python"
    },
    "accelerator": "GPU"
  },
  "cells": [
    {
      "cell_type": "code",
      "execution_count": 3,
      "metadata": {
        "id": "OEBKAY41RmdQ"
      },
      "outputs": [],
      "source": [
        "## importing libraries\n",
        "\n",
        "import numpy as np\n",
        "import pandas as pd\n",
        "import matplotlib.pyplot as plt\n",
        "%matplotlib inline\n",
        "import seaborn as sns\n",
        "\n",
        "\n",
        "import tensorflow as tf\n",
        "from tensorflow import keras"
      ]
    },
    {
      "cell_type": "code",
      "source": [
        "## Loading the dataset\n",
        "(X_train, y_train) , (X_test, y_test) = keras.datasets.fashion_mnist.load_data()\n"
      ],
      "metadata": {
        "colab": {
          "base_uri": "https://localhost:8080/"
        },
        "id": "gM8VhQKWSNHg",
        "outputId": "15c160eb-8621-47df-8e15-d068d0820ac0"
      },
      "execution_count": 4,
      "outputs": [
        {
          "output_type": "stream",
          "name": "stdout",
          "text": [
            "Downloading data from https://storage.googleapis.com/tensorflow/tf-keras-datasets/train-labels-idx1-ubyte.gz\n",
            "29515/29515 [==============================] - 0s 0us/step\n",
            "Downloading data from https://storage.googleapis.com/tensorflow/tf-keras-datasets/train-images-idx3-ubyte.gz\n",
            "26421880/26421880 [==============================] - 0s 0us/step\n",
            "Downloading data from https://storage.googleapis.com/tensorflow/tf-keras-datasets/t10k-labels-idx1-ubyte.gz\n",
            "5148/5148 [==============================] - 0s 0us/step\n",
            "Downloading data from https://storage.googleapis.com/tensorflow/tf-keras-datasets/t10k-images-idx3-ubyte.gz\n",
            "4422102/4422102 [==============================] - 0s 0us/step\n"
          ]
        }
      ]
    },
    {
      "cell_type": "code",
      "source": [
        "len(X_train)"
      ],
      "metadata": {
        "colab": {
          "base_uri": "https://localhost:8080/"
        },
        "id": "E0mkncNwTf-2",
        "outputId": "8cbbff5b-1728-465e-85c1-3de441d18dd3"
      },
      "execution_count": 5,
      "outputs": [
        {
          "output_type": "execute_result",
          "data": {
            "text/plain": [
              "60000"
            ]
          },
          "metadata": {},
          "execution_count": 5
        }
      ]
    },
    {
      "cell_type": "code",
      "source": [
        "len(X_test)"
      ],
      "metadata": {
        "colab": {
          "base_uri": "https://localhost:8080/"
        },
        "id": "aNs62Oo1TmkG",
        "outputId": "ba4889c4-ecb1-40a5-ab1a-f8bc130ba57c"
      },
      "execution_count": 6,
      "outputs": [
        {
          "output_type": "execute_result",
          "data": {
            "text/plain": [
              "10000"
            ]
          },
          "metadata": {},
          "execution_count": 6
        }
      ]
    },
    {
      "cell_type": "code",
      "source": [
        "X_train[0].shape"
      ],
      "metadata": {
        "colab": {
          "base_uri": "https://localhost:8080/"
        },
        "id": "eCEtrU8cTr2u",
        "outputId": "e08ed2c1-1deb-485e-999f-2aafcfbecfa9"
      },
      "execution_count": 7,
      "outputs": [
        {
          "output_type": "execute_result",
          "data": {
            "text/plain": [
              "(28, 28)"
            ]
          },
          "metadata": {},
          "execution_count": 7
        }
      ]
    },
    {
      "cell_type": "code",
      "source": [
        "plt.matshow(X_train[0])"
      ],
      "metadata": {
        "colab": {
          "base_uri": "https://localhost:8080/",
          "height": 454
        },
        "id": "1H-4XBuVT5Lb",
        "outputId": "241a735d-68cb-420a-b96d-42cbb0dcb03d"
      },
      "execution_count": 9,
      "outputs": [
        {
          "output_type": "execute_result",
          "data": {
            "text/plain": [
              "<matplotlib.image.AxesImage at 0x7b014315d8d0>"
            ]
          },
          "metadata": {},
          "execution_count": 9
        },
        {
          "output_type": "display_data",
          "data": {
            "text/plain": [
              "<Figure size 480x480 with 1 Axes>"
            ],
            "image/png": "[encoded data removed]"
          },
          "metadata": {}
        }
      ]
    },
    {
      "cell_type": "code",
      "source": [
        "## scaling of the data set\n",
        "\n",
        "X_train = X_train/255\n",
        "X_test = X_test/255"
      ],
      "metadata": {
        "id": "BEzZLmM9Ucvi"
      },
      "execution_count": 10,
      "outputs": []
    },
    {
      "cell_type": "code",
      "source": [
        "### Model Building\n",
        "\n",
        "model = keras.Sequential([\n",
        "    keras.layers.Flatten(input_shape = (28,28)),\n",
        "    keras.layers.Dense(100,activation = 'relu'),\n",
        "    keras.layers.Dense(10,activation = 'sigmoid')\n",
        "])\n",
        "\n"
      ],
      "metadata": {
        "id": "_Egw_nQ4Ucq-"
      },
      "execution_count": 14,
      "outputs": []
    },
    {
      "cell_type": "code",
      "source": [
        "model.compile(optimizer = 'adam',\n",
        "              loss = 'sparse_categorical_crossentropy',\n",
        "              metrics = ['accuracy'])"
      ],
      "metadata": {
        "id": "ku-LpSEoV8cg"
      },
      "execution_count": 17,
      "outputs": []
    },
    {
      "cell_type": "code",
      "source": [
        "model.fit(X_test,y_test,epochs = 50)"
      ],
      "metadata": {
        "colab": {
          "base_uri": "https://localhost:8080/"
        },
        "id": "97PIrzu9V8ZG",
        "outputId": "c0050179-5aa4-4444-d7f2-0082525e379d"
      },
      "execution_count": 24,
      "outputs": [
        {
          "output_type": "stream",
          "name": "stdout",
          "text": [
            "Epoch 1/50\n",
            "313/313 [==============================] - 1s 3ms/step - loss: 0.0111 - accuracy: 0.9976\n",
            "Epoch 2/50\n",
            "313/313 [==============================] - 1s 3ms/step - loss: 0.0170 - accuracy: 0.9948\n",
            "Epoch 3/50\n",
            "313/313 [==============================] - 1s 3ms/step - loss: 0.0242 - accuracy: 0.9926\n",
            "Epoch 4/50\n",
            "313/313 [==============================] - 1s 3ms/step - loss: 0.0366 - accuracy: 0.9885\n",
            "Epoch 5/50\n",
            "313/313 [==============================] - 1s 3ms/step - loss: 0.0292 - accuracy: 0.9931\n",
            "Epoch 6/50\n",
            "313/313 [==============================] - 1s 3ms/step - loss: 0.0128 - accuracy: 0.9971\n",
            "Epoch 7/50\n",
            "313/313 [==============================] - 1s 3ms/step - loss: 0.0258 - accuracy: 0.9919\n",
            "Epoch 8/50\n",
            "313/313 [==============================] - 1s 3ms/step - loss: 0.0511 - accuracy: 0.9821\n",
            "Epoch 9/50\n",
            "313/313 [==============================] - 1s 3ms/step - loss: 0.0073 - accuracy: 0.9989\n",
            "Epoch 10/50\n",
            "313/313 [==============================] - 1s 4ms/step - loss: 0.0060 - accuracy: 0.9990\n",
            "Epoch 11/50\n",
            "313/313 [==============================] - 1s 4ms/step - loss: 0.0044 - accuracy: 0.9996\n",
            "Epoch 12/50\n",
            "313/313 [==============================] - 1s 3ms/step - loss: 0.0666 - accuracy: 0.9793\n",
            "Epoch 13/50\n",
            "313/313 [==============================] - 1s 3ms/step - loss: 0.0374 - accuracy: 0.9879\n",
            "Epoch 14/50\n",
            "313/313 [==============================] - 1s 3ms/step - loss: 0.0217 - accuracy: 0.9925\n",
            "Epoch 15/50\n",
            "313/313 [==============================] - 1s 3ms/step - loss: 0.0151 - accuracy: 0.9954\n",
            "Epoch 16/50\n",
            "313/313 [==============================] - 1s 3ms/step - loss: 0.0256 - accuracy: 0.9933\n",
            "Epoch 17/50\n",
            "313/313 [==============================] - 1s 3ms/step - loss: 0.0180 - accuracy: 0.9950\n",
            "Epoch 18/50\n",
            "313/313 [==============================] - 1s 3ms/step - loss: 0.0074 - accuracy: 0.9986\n",
            "Epoch 19/50\n",
            "313/313 [==============================] - 1s 3ms/step - loss: 0.0160 - accuracy: 0.9947\n",
            "Epoch 20/50\n",
            "313/313 [==============================] - 1s 3ms/step - loss: 0.0109 - accuracy: 0.9967\n",
            "Epoch 21/50\n",
            "313/313 [==============================] - 1s 3ms/step - loss: 0.0642 - accuracy: 0.9798\n",
            "Epoch 22/50\n",
            "313/313 [==============================] - 1s 3ms/step - loss: 0.0112 - accuracy: 0.9968\n",
            "Epoch 23/50\n",
            "313/313 [==============================] - 1s 3ms/step - loss: 0.0063 - accuracy: 0.9987\n",
            "Epoch 24/50\n",
            "313/313 [==============================] - 1s 4ms/step - loss: 0.0091 - accuracy: 0.9978\n",
            "Epoch 25/50\n",
            "313/313 [==============================] - 1s 4ms/step - loss: 0.0781 - accuracy: 0.9778\n",
            "Epoch 26/50\n",
            "313/313 [==============================] - 1s 3ms/step - loss: 0.0155 - accuracy: 0.9958\n",
            "Epoch 27/50\n",
            "313/313 [==============================] - 1s 3ms/step - loss: 0.0033 - accuracy: 0.9998\n",
            "Epoch 28/50\n",
            "313/313 [==============================] - 1s 3ms/step - loss: 0.0035 - accuracy: 0.9996\n",
            "Epoch 29/50\n",
            "313/313 [==============================] - 1s 3ms/step - loss: 0.0050 - accuracy: 0.9988\n",
            "Epoch 30/50\n",
            "313/313 [==============================] - 1s 3ms/step - loss: 0.0747 - accuracy: 0.9762\n",
            "Epoch 31/50\n",
            "313/313 [==============================] - 1s 3ms/step - loss: 0.0192 - accuracy: 0.9927\n",
            "Epoch 32/50\n",
            "313/313 [==============================] - 1s 3ms/step - loss: 0.0042 - accuracy: 0.9996\n",
            "Epoch 33/50\n",
            "313/313 [==============================] - 1s 3ms/step - loss: 0.0032 - accuracy: 0.9997\n",
            "Epoch 34/50\n",
            "313/313 [==============================] - 1s 3ms/step - loss: 0.0364 - accuracy: 0.9885\n",
            "Epoch 35/50\n",
            "313/313 [==============================] - 1s 3ms/step - loss: 0.0406 - accuracy: 0.9850\n",
            "Epoch 36/50\n",
            "313/313 [==============================] - 1s 3ms/step - loss: 0.0158 - accuracy: 0.9952\n",
            "Epoch 37/50\n",
            "313/313 [==============================] - 1s 3ms/step - loss: 0.0048 - accuracy: 0.9990\n",
            "Epoch 38/50\n",
            "313/313 [==============================] - 1s 3ms/step - loss: 0.0019 - accuracy: 0.9999\n",
            "Epoch 39/50\n",
            "313/313 [==============================] - 1s 3ms/step - loss: 0.0017 - accuracy: 1.0000\n",
            "Epoch 40/50\n",
            "313/313 [==============================] - 1s 4ms/step - loss: 0.0019 - accuracy: 0.9999\n",
            "Epoch 41/50\n",
            "313/313 [==============================] - 1s 3ms/step - loss: 0.0396 - accuracy: 0.9901\n",
            "Epoch 42/50\n",
            "313/313 [==============================] - 1s 3ms/step - loss: 0.0817 - accuracy: 0.9759\n",
            "Epoch 43/50\n",
            "313/313 [==============================] - 1s 3ms/step - loss: 0.0079 - accuracy: 0.9980\n",
            "Epoch 44/50\n",
            "313/313 [==============================] - 1s 3ms/step - loss: 0.0023 - accuracy: 0.9999\n",
            "Epoch 45/50\n",
            "313/313 [==============================] - 1s 3ms/step - loss: 0.0016 - accuracy: 1.0000\n",
            "Epoch 46/50\n",
            "313/313 [==============================] - 1s 3ms/step - loss: 0.0366 - accuracy: 0.9868\n",
            "Epoch 47/50\n",
            "313/313 [==============================] - 1s 3ms/step - loss: 0.0563 - accuracy: 0.9816\n",
            "Epoch 48/50\n",
            "313/313 [==============================] - 1s 3ms/step - loss: 0.0041 - accuracy: 0.9996\n",
            "Epoch 49/50\n",
            "313/313 [==============================] - 1s 3ms/step - loss: 0.0019 - accuracy: 0.9999\n",
            "Epoch 50/50\n",
            "313/313 [==============================] - 1s 3ms/step - loss: 0.0020 - accuracy: 0.9999\n"
          ]
        },
        {
          "output_type": "execute_result",
          "data": {
            "text/plain": [
              "<keras.src.callbacks.History at 0x7b01456e1150>"
            ]
          },
          "metadata": {},
          "execution_count": 24
        }
      ]
    },
    {
      "cell_type": "code",
      "source": [
        "## model evaluation\n",
        "model.evaluate(X_test,y_test)"
      ],
      "metadata": {
        "colab": {
          "base_uri": "https://localhost:8080/"
        },
        "id": "q2gXdQfFUcmd",
        "outputId": "28437dda-205e-427f-b019-33d9fff1a401"
      },
      "execution_count": 26,
      "outputs": [
        {
          "output_type": "stream",
          "name": "stdout",
          "text": [
            "313/313 [==============================] - 1s 2ms/step - loss: 0.0029 - accuracy: 0.9993\n"
          ]
        },
        {
          "output_type": "execute_result",
          "data": {
            "text/plain": [
              "[0.0029384461231529713, 0.9993000030517578]"
            ]
          },
          "metadata": {},
          "execution_count": 26
        }
      ]
    },
    {
      "cell_type": "code",
      "source": [
        "y_predict = model.predict(X_test)"
      ],
      "metadata": {
        "colab": {
          "base_uri": "https://localhost:8080/"
        },
        "id": "fNMtGGLkUchF",
        "outputId": "1fce802b-f414-4265-fac6-6c705f6df267"
      },
      "execution_count": 28,
      "outputs": [
        {
          "output_type": "stream",
          "name": "stdout",
          "text": [
            "313/313 [==============================] - 0s 1ms/step\n"
          ]
        }
      ]
    },
    {
      "cell_type": "code",
      "source": [
        "y_predict[0]"
      ],
      "metadata": {
        "colab": {
          "base_uri": "https://localhost:8080/"
        },
        "id": "WNpHFNcdUcWv",
        "outputId": "ca4fc8ef-3e56-42f1-c046-88c09f50287d"
      },
      "execution_count": 29,
      "outputs": [
        {
          "output_type": "execute_result",
          "data": {
            "text/plain": [
              "array([1.00962134e-14, 3.36314706e-19, 6.70817681e-04, 7.58136932e-19,\n",
              "       2.85545479e-14, 4.58932459e-01, 2.22899321e-11, 9.21575129e-01,\n",
              "       6.24261487e-09, 9.99836802e-01], dtype=float32)"
            ]
          },
          "metadata": {},
          "execution_count": 29
        }
      ]
    },
    {
      "cell_type": "code",
      "source": [
        "plt.matshow(X_test[0])"
      ],
      "metadata": {
        "colab": {
          "base_uri": "https://localhost:8080/",
          "height": 454
        },
        "id": "cvAmWAmfYnUX",
        "outputId": "55f9abda-36d4-4164-859e-99b99c8ce2c5"
      },
      "execution_count": 30,
      "outputs": [
        {
          "output_type": "execute_result",
          "data": {
            "text/plain": [
              "<matplotlib.image.AxesImage at 0x7b00a7b48190>"
            ]
          },
          "metadata": {},
          "execution_count": 30
        },
        {
          "output_type": "display_data",
          "data": {
            "text/plain": [
              "<Figure size 480x480 with 1 Axes>"
            ],
            "image/png": "[encoded data removed]"
          },
          "metadata": {}
        }
      ]
    },
    {
      "cell_type": "code",
      "source": [
        "np.argmax(y_predict[0])"
      ],
      "metadata": {
        "colab": {
          "base_uri": "https://localhost:8080/"
        },
        "id": "bVbsdvEgYnTT",
        "outputId": "58ace93f-d5e1-45e5-a4ce-22cb8c5d48a9"
      },
      "execution_count": 31,
      "outputs": [
        {
          "output_type": "execute_result",
          "data": {
            "text/plain": [
              "9"
            ]
          },
          "metadata": {},
          "execution_count": 31
        }
      ]
    },
    {
      "cell_type": "code",
      "source": [
        "y_predicted_labels = [np.argmax(i) for i in y_predict]"
      ],
      "metadata": {
        "id": "K2foem-wYnPs"
      },
      "execution_count": 32,
      "outputs": []
    },
    {
      "cell_type": "code",
      "source": [
        "y_predicted_labels[:5]"
      ],
      "metadata": {
        "colab": {
          "base_uri": "https://localhost:8080/"
        },
        "id": "j4yQtw_hYnLF",
        "outputId": "67d0f7c8-80d2-4649-9ccf-f5295eb93f68"
      },
      "execution_count": 33,
      "outputs": [
        {
          "output_type": "execute_result",
          "data": {
            "text/plain": [
              "[9, 2, 1, 1, 6]"
            ]
          },
          "metadata": {},
          "execution_count": 33
        }
      ]
    },
    {
      "cell_type": "code",
      "source": [
        "# confusion matrix\n",
        "\n",
        "cm = tf.math.confusion_matrix(labels = y_test,predictions = y_predicted_labels)"
      ],
      "metadata": {
        "id": "Cm0iDsskYRuC"
      },
      "execution_count": 35,
      "outputs": []
    },
    {
      "cell_type": "code",
      "source": [
        "cm"
      ],
      "metadata": {
        "colab": {
          "base_uri": "https://localhost:8080/"
        },
        "id": "G_J3TdXlYRfL",
        "outputId": "845d117f-7ac0-432a-fa60-3d6ecaf78f8e"
      },
      "execution_count": 36,
      "outputs": [
        {
          "output_type": "execute_result",
          "data": {
            "text/plain": [
              "<tf.Tensor: shape=(10, 10), dtype=int32, numpy=\n",
              "array([[1000,    0,    0,    0,    0,    0,    0,    0,    0,    0],\n",
              "       [   0, 1000,    0,    0,    0,    0,    0,    0,    0,    0],\n",
              "       [   0,    0, 1000,    0,    0,    0,    0,    0,    0,    0],\n",
              "       [   0,    0,    0,  993,    7,    0,    0,    0,    0,    0],\n",
              "       [   0,    0,    0,    0, 1000,    0,    0,    0,    0,    0],\n",
              "       [   0,    0,    0,    0,    0, 1000,    0,    0,    0,    0],\n",
              "       [   2,    0,    0,    0,    0,    0,  998,    0,    0,    0],\n",
              "       [   0,    0,    0,    0,    0,    0,    0, 1000,    0,    0],\n",
              "       [   1,    0,    0,    0,    0,    0,    0,    0,  999,    0],\n",
              "       [   0,    0,    0,    0,    0,    0,    0,    0,    0, 1000]],\n",
              "      dtype=int32)>"
            ]
          },
          "metadata": {},
          "execution_count": 36
        }
      ]
    },
    {
      "cell_type": "code",
      "source": [
        "plt.figure(figsize = (10,8))\n",
        "sns.heatmap(cm,annot = True,fmt = 'd')\n",
        "plt.xlabel('Predicted')\n",
        "plt.ylabel('actual')"
      ],
      "metadata": {
        "colab": {
          "base_uri": "https://localhost:8080/",
          "height": 718
        },
        "id": "n02qUrQJZVAI",
        "outputId": "6f476aac-6b11-4079-886a-25c9709bf76d"
      },
      "execution_count": 37,
      "outputs": [
        {
          "output_type": "execute_result",
          "data": {
            "text/plain": [
              "Text(95.72222222222221, 0.5, 'actual')"
            ]
          },
          "metadata": {},
          "execution_count": 37
        },
        {
          "output_type": "display_data",
          "data": {
            "text/plain": [
              "<Figure size 1000x800 with 2 Axes>"
            ],
            "image/png": "[encoded data removed]"
          },
          "metadata": {}
        }
      ]
    }
  ]
}